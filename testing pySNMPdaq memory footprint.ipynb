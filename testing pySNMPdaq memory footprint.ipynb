{
 "cells": [
  {
   "cell_type": "code",
   "execution_count": 1,
   "metadata": {
    "collapsed": false
   },
   "outputs": [
    {
     "name": "stdout",
     "output_type": "stream",
     "text": [
      "Populating the interactive namespace from numpy and matplotlib\n"
     ]
    },
    {
     "name": "stderr",
     "output_type": "stream",
     "text": [
      "/home/chwala-c/anaconda/lib/python2.7/site-packages/matplotlib/__init__.py:872: UserWarning: axes.color_cycle is deprecated and replaced with axes.prop_cycle; please use the latter.\n",
      "  warnings.warn(self.msg_depr % (key, alt_key))\n"
     ]
    }
   ],
   "source": [
    "%pylab inline\n",
    "\n",
    "%load_ext autoreload\n",
    "%autoreload 2\n",
    "\n",
    "import sys\n",
    "import seaborn as sns\n",
    "from multiprocessing import Queue, Event, Process\n",
    "\n",
    "sys.path.insert(0, '/home/chwala-c/code/pySNMPdaq/')\n",
    "from pySNMPdaq import SnmpDAQSession"
   ]
  },
  {
   "cell_type": "code",
   "execution_count": 2,
   "metadata": {
    "collapsed": false
   },
   "outputs": [
    {
     "name": "stdout",
     "output_type": "stream",
     "text": [
      "             total       used       free     shared    buffers     cached\r\n",
      "Mem:          7959       2890       5068          0        331       1127\r\n",
      "-/+ buffers/cache:       1432       6527\r\n",
      "Swap:         1624          0       1624\r\n"
     ]
    }
   ],
   "source": [
    "!free -m"
   ]
  },
  {
   "cell_type": "code",
   "execution_count": 7,
   "metadata": {
    "collapsed": false
   },
   "outputs": [],
   "source": [
    "N = 10\n",
    "\n",
    "snmpDAQSessions = []\n",
    "\n",
    "query_results_queue = Queue()\n",
    "\n",
    "for i in range(N):\n",
    "    session = SnmpDAQSession(IP='123.321.123.321',\n",
    "                            ID='foobar' + str(i),\n",
    "                            oid_dict={'foo':'1.3.6.1.2.1.1.3'},\n",
    "                            WRITE_TO_FILE=False,\n",
    "                            WRITE_TO_STDOUT=False,\n",
    "                            timeout=1*1000000, # microseconds\n",
    "                            retries=2,\n",
    "                            query_results_queue=query_results_queue)\n",
    "    session.start_listener()\n",
    "    snmpDAQSessions.append(session)"
   ]
  },
  {
   "cell_type": "code",
   "execution_count": 8,
   "metadata": {
    "collapsed": false
   },
   "outputs": [
    {
     "name": "stdout",
     "output_type": "stream",
     "text": [
      "             total       used       free     shared    buffers     cached\r\n",
      "Mem:          7959       2952       5006          0        332       1128\r\n",
      "-/+ buffers/cache:       1492       6467\r\n",
      "Swap:         1624          0       1624\r\n"
     ]
    }
   ],
   "source": [
    "!free -m"
   ]
  },
  {
   "cell_type": "code",
   "execution_count": 9,
   "metadata": {
    "collapsed": false,
    "scrolled": false
   },
   "outputs": [],
   "source": [
    "for session in snmpDAQSessions:\n",
    "    session.stop_listener()\n",
    "    #print 'Terminating SNMP query processe...'\n",
    "    session.listener_process.terminate()\n",
    "    #print 'Joining SNMP query processe...'\n",
    "    session.listener_process.join()"
   ]
  },
  {
   "cell_type": "code",
   "execution_count": 10,
   "metadata": {
    "collapsed": false
   },
   "outputs": [
    {
     "name": "stdout",
     "output_type": "stream",
     "text": [
      "             total       used       free     shared    buffers     cached\r\n",
      "Mem:          7959       2920       5039          0        332       1128\r\n",
      "-/+ buffers/cache:       1458       6500\r\n",
      "Swap:         1624          0       1624\r\n"
     ]
    }
   ],
   "source": [
    "!free -m"
   ]
  },
  {
   "cell_type": "code",
   "execution_count": 2,
   "metadata": {
    "collapsed": false
   },
   "outputs": [
    {
     "data": {
      "image/png": "[encoded data removed]",
      "text/plain": [
       "<matplotlib.figure.Figure at 0x7fb08d3e3e50>"
      ]
     },
     "metadata": {},
     "output_type": "display_data"
    }
   ],
   "source": [
    "N = [0, 10, 100, 200, 300, 400, 500, 600, 700]\n",
    "old_mem = array([2607, 2697, 3170, 4114, 5479, 7211, nan, nan, nan])/1e3\n",
    "new_mem = array([2362, 2455, 2869, 3567, 4579, 5920, nan, nan, nan])/1e3\n",
    "nv2_mem = array([1929, 1978, 2336, 2983, 3708, 4562, 5596, 6742, 7827])/1e3\n",
    "\n",
    "plot(N, array(old_mem)-old_mem[0], '-o', label='old version')\n",
    "#plot(N, array(new_mem)-new_mem[0], '-o')\n",
    "plot(N, array(nv2_mem)-nv2_mem[0], '-o', label='improved version')\n",
    "plot(arange(200,1000), (arange(200,1000)*11.1-1850)/1e3, '--')\n",
    "\n",
    "legend(loc=2)\n",
    "xlabel('N_processes')\n",
    "ylabel('RAM usage in GB')\n",
    "savefig('/home/chwala-c/Dropbox//misc/pySNMPdaq_RAM_usage_improved.png', dpi=300)"
   ]
  },
  {
   "cell_type": "markdown",
   "metadata": {},
   "source": [
    "# Plot memory consumptions for different interprocess communications "
   ]
  },
  {
   "cell_type": "markdown",
   "metadata": {},
   "source": [
    "Data is produced by `test_run_fixed_N.py` which is called by `call_test_run_fixed_N.sh`. The bash-script is used to avioid accumulating memory consumption which happens in a python script that iterates over different `N`s and initializes and kill the corresponding processes. Python seem not to clean up completely as long as the inital \"partent\" process, here the script, runs.\n",
    "\n",
    " * Implementation #0 uses the current snmpDAQSession implementation which uses an `Event()` per Session to trigger the request\n",
    " * Implementation #1 uses a dummy class and a `Queue()` for triggering each `Process()`.\n",
    " * Implementation #2 uses a dummy class and an `Event()` for triggering each `Process()`.\n",
    " * Implementation #3 uses a dummy class and has no interprocess communication, no `Queue()`, no `Event()`.\n",
    " * Implementation #4 similar to #3 but the worker is no a Class method\n",
    " * Implementation #5 uses a dummy class and only one `Queue()` for triggering all `Process()`es.\n",
    "   * Question: How fast is putting and getting 1000 objects to one `Queue()` compared to setting 1000 `Events()`? See test below"
   ]
  },
  {
   "cell_type": "code",
   "execution_count": 2,
   "metadata": {
    "collapsed": true
   },
   "outputs": [],
   "source": [
    "import pandas as pd"
   ]
  },
  {
   "cell_type": "code",
   "execution_count": 3,
   "metadata": {
    "collapsed": false
   },
   "outputs": [
    {
     "data": {
      "text/plain": [
       "[<matplotlib.lines.Line2D at 0x7f360646da50>]"
      ]
     },
     "execution_count": 3,
     "metadata": {},
     "output_type": "execute_result"
    },
    {
     "data": {
      "image/png": "[encoded data removed]",
      "text/plain": [
       "<matplotlib.figure.Figure at 0x7f360651f290>"
      ]
     },
     "metadata": {},
     "output_type": "display_data"
    }
   ],
   "source": [
    "df = pd.read_csv('/home/chwala-c/code/pySNMPdaq/mem_test_results.csv',\n",
    "                 names=['implementation', 'N', 'mem_before', 'mem_during', 'mem_after'])\n",
    "\n",
    "grouped = df.groupby(['implementation'])\n",
    "\n",
    "for name, group in grouped:\n",
    "    plot(group.N, group.mem_during-group.mem_before, '-o', label=name)\n",
    "    legend(loc=2)\n",
    "plot(arange(200,1000), (arange(200,1000)*11.1-1850)/1e3, '--')\n"
   ]
  },
  {
   "cell_type": "markdown",
   "metadata": {},
   "source": [
    "# Test performance of putting and getting 1000 objects to a `Queue()`"
   ]
  },
  {
   "cell_type": "code",
   "execution_count": 2,
   "metadata": {
    "collapsed": false
   },
   "outputs": [
    {
     "name": "stdout",
     "output_type": "stream",
     "text": [
      "Init session and processes\n",
      "put sessions to queue\n",
      "terminate processesPID 17707 got somthing from the queue\n",
      "PID 17708 got somthing from the queue\n",
      "PID 17709 got somthing from the queue\n",
      "PID 17710 got somthing from the queue\n",
      "PID 17712 got somthing from the queue\n",
      "PID 17714 got somthing from the queue\n",
      "PID 17715 got somthing from the queue\n",
      "PID 17716 got somthing from the queue\n",
      "PID 17718 got somthing from the queue\n",
      "PID 17717 got somthing from the queue\n",
      "do snmp query that typically takes at least 0.1 seconds\n",
      "do snmp query that typically takes at least 0.1 seconds\n",
      "do snmp query that typically takes at least 0.1 seconds\n",
      "do snmp query that typically takes at least 0.1 seconds\n",
      "do snmp query that typically takes at least 0.1 seconds\n",
      "do snmp query that typically takes at least 0.1 seconds\n",
      "do snmp query that typically takes at least 0.1 seconds\n",
      "do snmp query that typically takes at least 0.1 seconds\n",
      "do snmp query that typically takes at least 0.1 seconds\n",
      "do snmp query that typically takes at least 0.1 seconds\n",
      "PID 17707 got somthing from the queuePID 17708 got somthing from the queuePID 17709 got somthing from the queuePID 17710 got somthing from the queuePID 17712 got somthing from the queuePID 17714 got somthing from the queuePID 17715 got somthing from the queuePID 17716 got somthing from the queuePID 17718 got somthing from the queuePID 17717 got somthing from the queue\n",
      "\n",
      "\n",
      "\n",
      "\n",
      "\n",
      "\n",
      "\n",
      "\n",
      "\n",
      "do snmp query that typically takes at least 0.1 seconds\n",
      "do snmp query that typically takes at least 0.1 seconds\n",
      "do snmp query that typically takes at least 0.1 seconds\n",
      "do snmp query that typically takes at least 0.1 seconds\n",
      "do snmp query that typically takes at least 0.1 seconds\n",
      "do snmp query that typically takes at least 0.1 seconds\n",
      "do snmp query that typically takes at least 0.1 seconds\n",
      "do snmp query that typically takes at least 0.1 seconds\n",
      "do snmp query that typically takes at least 0.1 seconds\n",
      "do snmp query that typically takes at least 0.1 seconds\n",
      "\n"
     ]
    },
    {
     "name": "stderr",
     "output_type": "stream",
     "text": [
      "Process Process-4:\n",
      "Process Process-2:\n",
      "Process Process-9:\n",
      "Process Process-8:\n",
      "Process Process-7:\n",
      "Process Process-1:\n",
      "Process Process-6:\n",
      "Process Process-5:\n",
      "Process Process-3:\n",
      "Process Process-10:\n",
      "Traceback (most recent call last):\n",
      "Traceback (most recent call last):\n",
      "Traceback (most recent call last):\n",
      "Traceback (most recent call last):\n",
      "Traceback (most recent call last):\n",
      "Traceback (most recent call last):\n",
      "Traceback (most recent call last):\n",
      "Traceback (most recent call last):\n",
      "Traceback (most recent call last):\n",
      "Traceback (most recent call last):\n",
      "  File \"/home/chwala-c/anaconda/lib/python2.7/multiprocessing/process.py\", line 258, in _bootstrap\n",
      "  File \"/home/chwala-c/anaconda/lib/python2.7/multiprocessing/process.py\", line 258, in _bootstrap\n",
      "  File \"/home/chwala-c/anaconda/lib/python2.7/multiprocessing/process.py\", line 258, in _bootstrap\n",
      "  File \"/home/chwala-c/anaconda/lib/python2.7/multiprocessing/process.py\", line 258, in _bootstrap\n",
      "  File \"/home/chwala-c/anaconda/lib/python2.7/multiprocessing/process.py\", line 258, in _bootstrap\n",
      "  File \"/home/chwala-c/anaconda/lib/python2.7/multiprocessing/process.py\", line 258, in _bootstrap\n",
      "  File \"/home/chwala-c/anaconda/lib/python2.7/multiprocessing/process.py\", line 258, in _bootstrap\n",
      "  File \"/home/chwala-c/anaconda/lib/python2.7/multiprocessing/process.py\", line 258, in _bootstrap\n",
      "  File \"/home/chwala-c/anaconda/lib/python2.7/multiprocessing/process.py\", line 258, in _bootstrap\n",
      "  File \"/home/chwala-c/anaconda/lib/python2.7/multiprocessing/process.py\", line 258, in _bootstrap\n",
      "    self.run()\n",
      "    self.run()\n",
      "    self.run()\n",
      "    self.run()\n",
      "    self.run()\n",
      "    self.run()\n",
      "    self.run()\n",
      "    self.run()\n",
      "    self.run()\n",
      "    self.run()\n",
      "  File \"/home/chwala-c/anaconda/lib/python2.7/multiprocessing/process.py\", line 114, in run\n",
      "  File \"/home/chwala-c/anaconda/lib/python2.7/multiprocessing/process.py\", line 114, in run\n",
      "  File \"/home/chwala-c/anaconda/lib/python2.7/multiprocessing/process.py\", line 114, in run\n",
      "  File \"/home/chwala-c/anaconda/lib/python2.7/multiprocessing/process.py\", line 114, in run\n",
      "  File \"/home/chwala-c/anaconda/lib/python2.7/multiprocessing/process.py\", line 114, in run\n",
      "  File \"/home/chwala-c/anaconda/lib/python2.7/multiprocessing/process.py\", line 114, in run\n",
      "  File \"/home/chwala-c/anaconda/lib/python2.7/multiprocessing/process.py\", line 114, in run\n",
      "  File \"/home/chwala-c/anaconda/lib/python2.7/multiprocessing/process.py\", line 114, in run\n",
      "  File \"/home/chwala-c/anaconda/lib/python2.7/multiprocessing/process.py\", line 114, in run\n",
      "  File \"/home/chwala-c/anaconda/lib/python2.7/multiprocessing/process.py\", line 114, in run\n",
      "    self._target(*self._args, **self._kwargs)\n",
      "    self._target(*self._args, **self._kwargs)\n",
      "    self._target(*self._args, **self._kwargs)\n",
      "    self._target(*self._args, **self._kwargs)\n",
      "    self._target(*self._args, **self._kwargs)\n",
      "    self._target(*self._args, **self._kwargs)\n",
      "    self._target(*self._args, **self._kwargs)\n",
      "    self._target(*self._args, **self._kwargs)\n",
      "    self._target(*self._args, **self._kwargs)\n",
      "    self._target(*self._args, **self._kwargs)\n",
      "  File \"<ipython-input-2-4e306cfbf336>\", line 22, in worker\n",
      "  File \"<ipython-input-2-4e306cfbf336>\", line 22, in worker\n",
      "  File \"<ipython-input-2-4e306cfbf336>\", line 22, in worker\n",
      "  File \"<ipython-input-2-4e306cfbf336>\", line 22, in worker\n",
      "  File \"<ipython-input-2-4e306cfbf336>\", line 22, in worker\n",
      "  File \"<ipython-input-2-4e306cfbf336>\", line 22, in worker\n",
      "  File \"<ipython-input-2-4e306cfbf336>\", line 22, in worker\n",
      "  File \"<ipython-input-2-4e306cfbf336>\", line 22, in worker\n",
      "  File \"<ipython-input-2-4e306cfbf336>\", line 22, in worker\n",
      "  File \"<ipython-input-2-4e306cfbf336>\", line 22, in worker\n",
      "    snmp_session = input_queue.get()\n",
      "    snmp_session = input_queue.get()\n",
      "    snmp_session = input_queue.get()\n",
      "    snmp_session = input_queue.get()\n",
      "    snmp_session = input_queue.get()\n",
      "    snmp_session = input_queue.get()\n",
      "    snmp_session = input_queue.get()\n",
      "    snmp_session = input_queue.get()\n",
      "    snmp_session = input_queue.get()\n",
      "    snmp_session = input_queue.get()\n",
      "  File \"/home/chwala-c/anaconda/lib/python2.7/multiprocessing/queues.py\", line 115, in get\n",
      "  File \"/home/chwala-c/anaconda/lib/python2.7/multiprocessing/queues.py\", line 117, in get\n",
      "  File \"/home/chwala-c/anaconda/lib/python2.7/multiprocessing/queues.py\", line 115, in get\n",
      "  File \"/home/chwala-c/anaconda/lib/python2.7/multiprocessing/queues.py\", line 115, in get\n",
      "  File \"/home/chwala-c/anaconda/lib/python2.7/multiprocessing/queues.py\", line 115, in get\n",
      "  File \"/home/chwala-c/anaconda/lib/python2.7/multiprocessing/queues.py\", line 115, in get\n",
      "  File \"/home/chwala-c/anaconda/lib/python2.7/multiprocessing/queues.py\", line 115, in get\n",
      "  File \"/home/chwala-c/anaconda/lib/python2.7/multiprocessing/queues.py\", line 115, in get\n",
      "  File \"/home/chwala-c/anaconda/lib/python2.7/multiprocessing/queues.py\", line 115, in get\n",
      "  File \"/home/chwala-c/anaconda/lib/python2.7/multiprocessing/queues.py\", line 115, in get\n",
      "    self._rlock.acquire()\n",
      "    res = self._recv()\n",
      "    self._rlock.acquire()\n",
      "    self._rlock.acquire()\n",
      "    self._rlock.acquire()\n",
      "    self._rlock.acquire()\n",
      "    self._rlock.acquire()\n",
      "    self._rlock.acquire()\n",
      "    self._rlock.acquire()\n",
      "    self._rlock.acquire()\n",
      "KeyboardInterrupt\n",
      "KeyboardInterrupt\n",
      "KeyboardInterrupt\n",
      "KeyboardInterrupt\n",
      "KeyboardInterrupt\n",
      "KeyboardInterrupt\n",
      "KeyboardInterrupt\n",
      "KeyboardInterrupt\n",
      "KeyboardInterrupt\n",
      "KeyboardInterrupt\n"
     ]
    },
    {
     "ename": "KeyboardInterrupt",
     "evalue": "",
     "output_type": "error",
     "traceback": [
      "\u001b[1;31m---------------------------------------------------------------------------\u001b[0m",
      "\u001b[1;31mKeyboardInterrupt\u001b[0m                         Traceback (most recent call last)",
      "\u001b[1;32m<ipython-input-2-4e306cfbf336>\u001b[0m in \u001b[0;36m<module>\u001b[1;34m()\u001b[0m\n\u001b[0;32m     50\u001b[0m \u001b[1;33m\u001b[0m\u001b[0m\n\u001b[0;32m     51\u001b[0m \u001b[1;32mfor\u001b[0m \u001b[0mp\u001b[0m \u001b[1;32min\u001b[0m \u001b[0mjobs\u001b[0m\u001b[1;33m:\u001b[0m\u001b[1;33m\u001b[0m\u001b[0m\n\u001b[1;32m---> 52\u001b[1;33m     \u001b[0mp\u001b[0m\u001b[1;33m.\u001b[0m\u001b[0mjoin\u001b[0m\u001b[1;33m(\u001b[0m\u001b[1;33m)\u001b[0m\u001b[1;33m\u001b[0m\u001b[0m\n\u001b[0m\u001b[0;32m     53\u001b[0m     \u001b[0mp\u001b[0m\u001b[1;33m.\u001b[0m\u001b[0mterminate\u001b[0m\u001b[1;33m(\u001b[0m\u001b[1;33m)\u001b[0m\u001b[1;33m\u001b[0m\u001b[0m\n",
      "\u001b[1;32m/home/chwala-c/anaconda/lib/python2.7/multiprocessing/process.pyc\u001b[0m in \u001b[0;36mjoin\u001b[1;34m(self, timeout)\u001b[0m\n\u001b[0;32m    143\u001b[0m         \u001b[1;32massert\u001b[0m \u001b[0mself\u001b[0m\u001b[1;33m.\u001b[0m\u001b[0m_parent_pid\u001b[0m \u001b[1;33m==\u001b[0m \u001b[0mos\u001b[0m\u001b[1;33m.\u001b[0m\u001b[0mgetpid\u001b[0m\u001b[1;33m(\u001b[0m\u001b[1;33m)\u001b[0m\u001b[1;33m,\u001b[0m \u001b[1;34m'can only join a child process'\u001b[0m\u001b[1;33m\u001b[0m\u001b[0m\n\u001b[0;32m    144\u001b[0m         \u001b[1;32massert\u001b[0m \u001b[0mself\u001b[0m\u001b[1;33m.\u001b[0m\u001b[0m_popen\u001b[0m \u001b[1;32mis\u001b[0m \u001b[1;32mnot\u001b[0m \u001b[0mNone\u001b[0m\u001b[1;33m,\u001b[0m \u001b[1;34m'can only join a started process'\u001b[0m\u001b[1;33m\u001b[0m\u001b[0m\n\u001b[1;32m--> 145\u001b[1;33m         \u001b[0mres\u001b[0m \u001b[1;33m=\u001b[0m \u001b[0mself\u001b[0m\u001b[1;33m.\u001b[0m\u001b[0m_popen\u001b[0m\u001b[1;33m.\u001b[0m\u001b[0mwait\u001b[0m\u001b[1;33m(\u001b[0m\u001b[0mtimeout\u001b[0m\u001b[1;33m)\u001b[0m\u001b[1;33m\u001b[0m\u001b[0m\n\u001b[0m\u001b[0;32m    146\u001b[0m         \u001b[1;32mif\u001b[0m \u001b[0mres\u001b[0m \u001b[1;32mis\u001b[0m \u001b[1;32mnot\u001b[0m \u001b[0mNone\u001b[0m\u001b[1;33m:\u001b[0m\u001b[1;33m\u001b[0m\u001b[0m\n\u001b[0;32m    147\u001b[0m             \u001b[0m_current_process\u001b[0m\u001b[1;33m.\u001b[0m\u001b[0m_children\u001b[0m\u001b[1;33m.\u001b[0m\u001b[0mdiscard\u001b[0m\u001b[1;33m(\u001b[0m\u001b[0mself\u001b[0m\u001b[1;33m)\u001b[0m\u001b[1;33m\u001b[0m\u001b[0m\n",
      "\u001b[1;32m/home/chwala-c/anaconda/lib/python2.7/multiprocessing/forking.pyc\u001b[0m in \u001b[0;36mwait\u001b[1;34m(self, timeout)\u001b[0m\n\u001b[0;32m    152\u001b[0m         \u001b[1;32mdef\u001b[0m \u001b[0mwait\u001b[0m\u001b[1;33m(\u001b[0m\u001b[0mself\u001b[0m\u001b[1;33m,\u001b[0m \u001b[0mtimeout\u001b[0m\u001b[1;33m=\u001b[0m\u001b[0mNone\u001b[0m\u001b[1;33m)\u001b[0m\u001b[1;33m:\u001b[0m\u001b[1;33m\u001b[0m\u001b[0m\n\u001b[0;32m    153\u001b[0m             \u001b[1;32mif\u001b[0m \u001b[0mtimeout\u001b[0m \u001b[1;32mis\u001b[0m \u001b[0mNone\u001b[0m\u001b[1;33m:\u001b[0m\u001b[1;33m\u001b[0m\u001b[0m\n\u001b[1;32m--> 154\u001b[1;33m                 \u001b[1;32mreturn\u001b[0m \u001b[0mself\u001b[0m\u001b[1;33m.\u001b[0m\u001b[0mpoll\u001b[0m\u001b[1;33m(\u001b[0m\u001b[1;36m0\u001b[0m\u001b[1;33m)\u001b[0m\u001b[1;33m\u001b[0m\u001b[0m\n\u001b[0m\u001b[0;32m    155\u001b[0m             \u001b[0mdeadline\u001b[0m \u001b[1;33m=\u001b[0m \u001b[0mtime\u001b[0m\u001b[1;33m.\u001b[0m\u001b[0mtime\u001b[0m\u001b[1;33m(\u001b[0m\u001b[1;33m)\u001b[0m \u001b[1;33m+\u001b[0m \u001b[0mtimeout\u001b[0m\u001b[1;33m\u001b[0m\u001b[0m\n\u001b[0;32m    156\u001b[0m             \u001b[0mdelay\u001b[0m \u001b[1;33m=\u001b[0m \u001b[1;36m0.0005\u001b[0m\u001b[1;33m\u001b[0m\u001b[0m\n",
      "\u001b[1;32m/home/chwala-c/anaconda/lib/python2.7/multiprocessing/forking.pyc\u001b[0m in \u001b[0;36mpoll\u001b[1;34m(self, flag)\u001b[0m\n\u001b[0;32m    133\u001b[0m                 \u001b[1;32mwhile\u001b[0m \u001b[0mTrue\u001b[0m\u001b[1;33m:\u001b[0m\u001b[1;33m\u001b[0m\u001b[0m\n\u001b[0;32m    134\u001b[0m                     \u001b[1;32mtry\u001b[0m\u001b[1;33m:\u001b[0m\u001b[1;33m\u001b[0m\u001b[0m\n\u001b[1;32m--> 135\u001b[1;33m                         \u001b[0mpid\u001b[0m\u001b[1;33m,\u001b[0m \u001b[0msts\u001b[0m \u001b[1;33m=\u001b[0m \u001b[0mos\u001b[0m\u001b[1;33m.\u001b[0m\u001b[0mwaitpid\u001b[0m\u001b[1;33m(\u001b[0m\u001b[0mself\u001b[0m\u001b[1;33m.\u001b[0m\u001b[0mpid\u001b[0m\u001b[1;33m,\u001b[0m \u001b[0mflag\u001b[0m\u001b[1;33m)\u001b[0m\u001b[1;33m\u001b[0m\u001b[0m\n\u001b[0m\u001b[0;32m    136\u001b[0m                     \u001b[1;32mexcept\u001b[0m \u001b[0mos\u001b[0m\u001b[1;33m.\u001b[0m\u001b[0merror\u001b[0m \u001b[1;32mas\u001b[0m \u001b[0me\u001b[0m\u001b[1;33m:\u001b[0m\u001b[1;33m\u001b[0m\u001b[0m\n\u001b[0;32m    137\u001b[0m                         \u001b[1;32mif\u001b[0m \u001b[0me\u001b[0m\u001b[1;33m.\u001b[0m\u001b[0merrno\u001b[0m \u001b[1;33m==\u001b[0m \u001b[0merrno\u001b[0m\u001b[1;33m.\u001b[0m\u001b[0mEINTR\u001b[0m\u001b[1;33m:\u001b[0m\u001b[1;33m\u001b[0m\u001b[0m\n",
      "\u001b[1;31mKeyboardInterrupt\u001b[0m: "
     ]
    }
   ],
   "source": [
    "import os\n",
    "from time import sleep\n",
    "from datetime import datetime\n",
    "\n",
    "\n",
    "N = 10\n",
    "\n",
    "input_queue = Queue()\n",
    "output_queue = Queue()\n",
    "\n",
    "class SnmpSessionDummy():\n",
    "    def __init__(self,i):\n",
    "        self.foo = 'bar'\n",
    "        self.id = i\n",
    "    def query(self):\n",
    "        print 'do snmp query that typically takes at least 0.1 seconds'\n",
    "        sleep(0.1)\n",
    "        output_queue.put((self.id, datetime.utcnow()))\n",
    "\n",
    "def worker(input_queue):\n",
    "    while True:\n",
    "        snmp_session = input_queue.get()\n",
    "        print 'PID %s got somthing from the queue' % os.getpid()\n",
    "        snmp_session.query()\n",
    "        \n",
    "snmp_sessions = []\n",
    "jobs = []\n",
    "        \n",
    "print 'Init session and processes'    \n",
    "\n",
    "for i in range(N):\n",
    "    snmp_sessions.append(SnmpSessionDummy(i))\n",
    "    p = Process(target=worker, args=(input_queue,))\n",
    "    p.start()\n",
    "    jobs.append(p)\n",
    "    \n",
    "print 'put sessions to queue'\n",
    "    \n",
    "for snmp_session in snmp_sessions:\n",
    "    input_queue.put(snmp_session)\n",
    "    \n",
    "sleep(1)\n",
    "  \n",
    "for snmp_session in snmp_sessions:\n",
    "    input_queue.put(snmp_session)\n",
    "    \n",
    "sleep(5)\n",
    "    \n",
    "print 'terminate processes'\n",
    "    \n",
    "for p in jobs:\n",
    "    p.join()\n",
    "    p.terminate()\n"
   ]
  },
  {
   "cell_type": "code",
   "execution_count": null,
   "metadata": {
    "collapsed": false
   },
   "outputs": [],
   "source": [
    "while not output_queue.empty():\n",
    "    print output_queue.get()"
   ]
  },
  {
   "cell_type": "code",
   "execution_count": null,
   "metadata": {
    "collapsed": true
   },
   "outputs": [],
   "source": []
  }
 ],
 "metadata": {
  "kernelspec": {
   "display_name": "Python 2",
   "language": "python",
   "name": "python2"
  },
  "language_info": {
   "codemirror_mode": {
    "name": "ipython",
    "version": 2
   },
   "file_extension": ".py",
   "mimetype": "text/x-python",
   "name": "python",
   "nbconvert_exporter": "python",
   "pygments_lexer": "ipython2",
   "version": "2.7.11"
  }
 },
 "nbformat": 4,
 "nbformat_minor": 0
}
