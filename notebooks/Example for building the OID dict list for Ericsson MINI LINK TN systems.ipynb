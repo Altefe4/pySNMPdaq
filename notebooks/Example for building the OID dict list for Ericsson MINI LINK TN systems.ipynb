{
 "cells": [
  {
   "cell_type": "code",
   "execution_count": 4,
   "metadata": {},
   "outputs": [
    {
     "name": "stdout",
     "output_type": "stream",
     "text": [
      "Populating the interactive namespace from numpy and matplotlib\n"
     ]
    }
   ],
   "source": [
    "%pylab inline"
   ]
  },
  {
   "cell_type": "markdown",
   "metadata": {},
   "source": [
    "# Requirements\n",
    "\n",
    "In the case of Ericsson MINK LINK Traffic Node system one has to provide the following information to query data via SNMP:\n",
    "\n",
    " * IP adress\n",
    " * slot number\n",
    " * from which end to query, *far_end* or *near_end*\n",
    " "
   ]
  },
  {
   "cell_type": "markdown",
   "metadata": {},
   "source": [
    "# Read in link metadata (IP, slot, location, etc...) from XLS file "
   ]
  },
  {
   "cell_type": "markdown",
   "metadata": {},
   "source": [
    "Below is a specific parser for the XLS files we get from Ericsson and \n",
    "will not be oh help for you since your may most likely get the \n",
    "metadata in a very different format. But I have to read our data\n",
    "in to demostrate how to build the OID listing\n",
    "\n",
    "Please note, that our metadata XLS file lists the slot information of 1+1 protection systems as e.g. '2+3', if slot 2 and 3 of a certain system (with the same IP) belong to the same 1+1 system. This is resolved in the functions below and two system are built for the SNMP requests. We later on put the back together when we process the raw data.  "
   ]
  },
  {
   "cell_type": "code",
   "execution_count": 22,
   "metadata": {},
   "outputs": [
    {
     "ename": "ModuleNotFoundError",
     "evalue": "No module named 'ifu_comlink_database'",
     "output_type": "error",
     "traceback": [
      "\u001b[0;31m---------------------------------------------------------------------------\u001b[0m",
      "\u001b[0;31mModuleNotFoundError\u001b[0m                       Traceback (most recent call last)",
      "\u001b[0;32m<ipython-input-22-9fefeeb63a0b>\u001b[0m in \u001b[0;36m<module>\u001b[0;34m\u001b[0m\n\u001b[0;32m----> 1\u001b[0;31m \u001b[0;32mfrom\u001b[0m \u001b[0mifu_comlink_database\u001b[0m\u001b[0;34m.\u001b[0m\u001b[0mparser\u001b[0m\u001b[0;34m.\u001b[0m\u001b[0mericsson\u001b[0m \u001b[0;32mimport\u001b[0m \u001b[0mread_xls_file_site_info\u001b[0m\u001b[0;34m,\u001b[0m \u001b[0mread_xls_file_link_info\u001b[0m\u001b[0;34m\u001b[0m\u001b[0;34m\u001b[0m\u001b[0m\n\u001b[0m",
      "\u001b[0;31mModuleNotFoundError\u001b[0m: No module named 'ifu_comlink_database'"
     ]
    }
   ],
   "source": [
    "from ifu_comlink_database.parser.ericsson import read_xls_file_site_info, read_xls_file_link_info"
   ]
  },
  {
   "cell_type": "code",
   "execution_count": 21,
   "metadata": {},
   "outputs": [
    {
     "ename": "NameError",
     "evalue": "name 'read_xls_file_link_info' is not defined",
     "output_type": "error",
     "traceback": [
      "\u001b[0;31m---------------------------------------------------------------------------\u001b[0m",
      "\u001b[0;31mNameError\u001b[0m                                 Traceback (most recent call last)",
      "\u001b[0;32m<ipython-input-21-c63c7a5b94ad>\u001b[0m in \u001b[0;36m<module>\u001b[0;34m\u001b[0m\n\u001b[1;32m      1\u001b[0m \u001b[0mfn\u001b[0m \u001b[0;34m=\u001b[0m \u001b[0;34m'/Users/chwala-c/code/ifu_comlink_database/ifu_comlink_database/link_lists/Procema_2015_04_22.xlsx'\u001b[0m\u001b[0;34m\u001b[0m\u001b[0;34m\u001b[0m\u001b[0m\n\u001b[1;32m      2\u001b[0m \u001b[0;34m\u001b[0m\u001b[0m\n\u001b[0;32m----> 3\u001b[0;31m \u001b[0mlink_dict\u001b[0m \u001b[0;34m=\u001b[0m \u001b[0mread_xls_file_link_info\u001b[0m\u001b[0;34m(\u001b[0m\u001b[0mfn\u001b[0m\u001b[0;34m)\u001b[0m\u001b[0;34m\u001b[0m\u001b[0;34m\u001b[0m\u001b[0m\n\u001b[0m\u001b[1;32m      4\u001b[0m \u001b[0msite_dict\u001b[0m \u001b[0;34m=\u001b[0m \u001b[0mread_xls_file_site_info\u001b[0m\u001b[0;34m(\u001b[0m\u001b[0mfn\u001b[0m\u001b[0;34m)\u001b[0m\u001b[0;34m\u001b[0m\u001b[0;34m\u001b[0m\u001b[0m\n",
      "\u001b[0;31mNameError\u001b[0m: name 'read_xls_file_link_info' is not defined"
     ]
    }
   ],
   "source": [
    "fn = '/Users/chwala-c/code/ifu_comlink_database/ifu_comlink_database/link_lists/Procema_2015_04_22.xlsx'\n",
    "\n",
    "link_dict = read_xls_file_link_info(fn)\n",
    "site_dict = read_xls_file_site_info(fn)"
   ]
  },
  {
   "cell_type": "markdown",
   "metadata": {},
   "source": [
    "As an example the first link in the list"
   ]
  },
  {
   "cell_type": "code",
   "execution_count": 20,
   "metadata": {},
   "outputs": [
    {
     "ename": "NameError",
     "evalue": "name 'link_dict' is not defined",
     "output_type": "error",
     "traceback": [
      "\u001b[0;31m---------------------------------------------------------------------------\u001b[0m",
      "\u001b[0;31mNameError\u001b[0m                                 Traceback (most recent call last)",
      "\u001b[0;32m<ipython-input-20-a14fdb010f52>\u001b[0m in \u001b[0;36m<module>\u001b[0;34m\u001b[0m\n\u001b[1;32m      1\u001b[0m \u001b[0;32mfor\u001b[0m \u001b[0mkey\u001b[0m \u001b[0;32min\u001b[0m \u001b[0;34m[\u001b[0m\u001b[0;34m'a_site'\u001b[0m\u001b[0;34m,\u001b[0m \u001b[0;34m'a_ip'\u001b[0m\u001b[0;34m,\u001b[0m \u001b[0;34m'a_slot'\u001b[0m\u001b[0;34m,\u001b[0m \u001b[0;34m'b_site'\u001b[0m\u001b[0;34m,\u001b[0m \u001b[0;34m'b_ip'\u001b[0m\u001b[0;34m,\u001b[0m \u001b[0;34m'b_slot'\u001b[0m\u001b[0;34m]\u001b[0m\u001b[0;34m:\u001b[0m\u001b[0;34m\u001b[0m\u001b[0;34m\u001b[0m\u001b[0m\n\u001b[0;32m----> 2\u001b[0;31m     \u001b[0mprint\u001b[0m \u001b[0;34m(\u001b[0m\u001b[0mkey\u001b[0m\u001b[0;34m,\u001b[0m \u001b[0mlink_dict\u001b[0m\u001b[0;34m[\u001b[0m\u001b[0mkey\u001b[0m\u001b[0;34m]\u001b[0m\u001b[0;34m[\u001b[0m\u001b[0;36m0\u001b[0m\u001b[0;34m]\u001b[0m\u001b[0;34m)\u001b[0m\u001b[0;34m\u001b[0m\u001b[0;34m\u001b[0m\u001b[0m\n\u001b[0m",
      "\u001b[0;31mNameError\u001b[0m: name 'link_dict' is not defined"
     ]
    }
   ],
   "source": [
    "for key in ['a_site', 'a_ip', 'a_slot', 'b_site', 'b_ip', 'b_slot']:\n",
    "    print (key, link_dict[key][0])"
   ]
  },
  {
   "cell_type": "markdown",
   "metadata": {},
   "source": [
    "# Functions to build link OID dict list "
   ]
  },
  {
   "cell_type": "markdown",
   "metadata": {},
   "source": [
    "## Function to derive slots from entry in link_dict  "
   ]
  },
  {
   "cell_type": "code",
   "execution_count": 19,
   "metadata": {},
   "outputs": [],
   "source": [
    "def get_slot_list(slot_number_or_str):\n",
    "    \"\"\"\n",
    "    Derive a list of slot numbers from XLS file entry\n",
    "    \n",
    "    Parameters\n",
    "    ----------\n",
    "    \n",
    "    slot_number_or_str : int, float or unicode str\n",
    "        Representation of slot or slots in XLS list. Unicode \n",
    "        string are used for the 1+1 protection systems.\n",
    "        \n",
    "    Returns\n",
    "    -------\n",
    "    \n",
    "    slot_list : list\n",
    "        List of slots. Even for only one slot a list is returned!   \n",
    "    \n",
    "    \"\"\"\n",
    "    \n",
    "    if type(slot_number_or_str) == float:\n",
    "        slot_list = [int(slot_number_or_str),]\n",
    "    elif type(slot_number_or_str) == int:\n",
    "        slot_list = [int(slot_number_or_str),]\n",
    "    elif type(slot_number_or_str) == unicode:\n",
    "        if slot_number_or_str == u'2+3 (1+1)':\n",
    "            slot_list = [2,3]\n",
    "        elif slot_number_or_str == u'3+4 (1+1)':\n",
    "            slot_list = [3,4]\n",
    "        elif slot_number_or_str == u'4+5 (1+1)':\n",
    "            slot_list = [4,5]\n",
    "        else:\n",
    "            raise ValueError('slot_number_of_string string not understood')\n",
    "    else:\n",
    "        raise ValueError('slot_number_of_string must be int, float or unicode')\n",
    "    return slot_list"
   ]
  },
  {
   "cell_type": "markdown",
   "metadata": {},
   "source": [
    "## Functions for building the correct OIDs for Ericsson MiniLink TN"
   ]
  },
  {
   "cell_type": "code",
   "execution_count": 18,
   "metadata": {},
   "outputs": [],
   "source": [
    "def build_TN_interface_descriptor(slot, near_far):\n",
    "    \"\"\" \n",
    "    Calculate the interface descriptor for TN MW links\n",
    "    \n",
    "    Parameters\n",
    "    ----------\n",
    "    \n",
    "    slot : int\n",
    "        Slot number\n",
    "    near_far : str\n",
    "        String to indicate which end of the link is the aim.\n",
    "        Options are: `near`, `far` and `far_protect`\n",
    "    \n",
    "    Returns\n",
    "    -------\n",
    "    \n",
    "    str\n",
    "        String of interface descriptor, e.g. \n",
    "        2146697601 for slot 3 at near_end\n",
    "        \n",
    "    \"\"\"\n",
    "    \n",
    "    # This are the values for slot 2, that do not have to be altered\n",
    "    if near_far=='near':\n",
    "        hex_base = '0x7ff40101'\n",
    "    elif near_far=='far':\n",
    "        hex_base = '0x7ef40101'\n",
    "    elif near_far=='far_protect':\n",
    "        hex_base = '0x7df40101'\n",
    "    else:\n",
    "        raise ValueError(\"near_far can only be 'near', 'far' or 'far_protect'\")\n",
    "    # Add 128 for each slot greater than 2 and return as string of an int\n",
    "    return str(int(hex_base,16) + 128*(int(slot)-2))\n",
    "\n",
    "def build_TN_OID(cmd, slot, near_far):\n",
    "    \"\"\"\n",
    "    Build OIDs from a certain SNMP query command\n",
    "    \n",
    "       Parameters\n",
    "    ----------\n",
    "    \n",
    "    cmd : str\n",
    "        Command for SNMP request. Right now only `RX` and `TX` are supported\n",
    "    slot : int\n",
    "        Slot number\n",
    "      near_far : str\n",
    "        String to indicate which end of the link is the aim.\n",
    "        Options are: `near`, `far` and `far_protect`\n",
    "            \n",
    "    Returns\n",
    "    -------\n",
    "    \n",
    "    str\n",
    "        OID as a string starting with a `.`, e.g. \n",
    "        .1.3.6.1.4.1.193.81.3.4.3.1.3.1.10.2146697601\n",
    "        for `RX` level at slot 3 at near_end\n",
    "    \n",
    "    \"\"\"\n",
    "    \n",
    "    OIDS = {}\n",
    "    OIDS['TX'] = '.1.3.6.1.4.1.193.81.3.4.3.1.3.1.1'\n",
    "    OIDS['RX'] = '.1.3.6.1.4.1.193.81.3.4.3.1.3.1.10'\n",
    "    # Return OID plus interface_descriptor for slot and near or far end\n",
    "    return OIDS[cmd] + '.' + build_TN_interface_descriptor(slot, near_far)"
   ]
  },
  {
   "cell_type": "markdown",
   "metadata": {},
   "source": [
    "## Test the function for building the interface desciptor "
   ]
  },
  {
   "cell_type": "code",
   "execution_count": 16,
   "metadata": {},
   "outputs": [
    {
     "name": "stdout",
     "output_type": "stream",
     "text": [
      "2146697473\n",
      "2146697601\n",
      "2146697729\n",
      "0x7ff40101\n",
      "0x7ff40181\n",
      "0x7ff40201\n",
      "0b1111111111101000000000100000001\n",
      "0b1111111111101000000000110000001\n",
      "0b1111111111101000000001000000001\n"
     ]
    }
   ],
   "source": [
    "print (int(build_TN_interface_descriptor(2, 'near')))\n",
    "print (int(build_TN_interface_descriptor(3, 'near')))\n",
    "print (int(build_TN_interface_descriptor(4, 'near')))\n",
    "\n",
    "print (hex(int(build_TN_interface_descriptor(2, 'near'))))\n",
    "print (hex(int(build_TN_interface_descriptor(3, 'near'))))\n",
    "print (hex(int(build_TN_interface_descriptor(4, 'near'))))\n",
    "\n",
    "print (bin(int(build_TN_interface_descriptor(2, 'near'))))\n",
    "print (bin(int(build_TN_interface_descriptor(3, 'near'))))\n",
    "print (bin(int(build_TN_interface_descriptor(4, 'near'))))"
   ]
  },
  {
   "cell_type": "markdown",
   "metadata": {},
   "source": [
    "## Test the function to build OID "
   ]
  },
  {
   "cell_type": "code",
   "execution_count": 17,
   "metadata": {},
   "outputs": [
    {
     "name": "stdout",
     "output_type": "stream",
     "text": [
      "\n",
      "2 near .1.3.6.1.4.1.193.81.3.4.3.1.3.1.10.2146697473\n",
      "2 far .1.3.6.1.4.1.193.81.3.4.3.1.3.1.10.2129920257\n",
      "2 far_protect .1.3.6.1.4.1.193.81.3.4.3.1.3.1.10.2113143041\n",
      "\n",
      "3 near .1.3.6.1.4.1.193.81.3.4.3.1.3.1.10.2146697601\n",
      "3 far .1.3.6.1.4.1.193.81.3.4.3.1.3.1.10.2129920385\n",
      "3 far_protect .1.3.6.1.4.1.193.81.3.4.3.1.3.1.10.2113143169\n",
      "\n",
      "4 near .1.3.6.1.4.1.193.81.3.4.3.1.3.1.10.2146697729\n",
      "4 far .1.3.6.1.4.1.193.81.3.4.3.1.3.1.10.2129920513\n",
      "4 far_protect .1.3.6.1.4.1.193.81.3.4.3.1.3.1.10.2113143297\n",
      "\n",
      "5 near .1.3.6.1.4.1.193.81.3.4.3.1.3.1.10.2146697857\n",
      "5 far .1.3.6.1.4.1.193.81.3.4.3.1.3.1.10.2129920641\n",
      "5 far_protect .1.3.6.1.4.1.193.81.3.4.3.1.3.1.10.2113143425\n"
     ]
    }
   ],
   "source": [
    "for slot in range(2,6):\n",
    "    print ('')\n",
    "    for nf in ['near', 'far', 'far_protect']:\n",
    "        print (slot, nf, build_TN_OID('RX', slot, nf))"
   ]
  },
  {
   "cell_type": "markdown",
   "metadata": {},
   "source": [
    "# Build a OID dict list to query RX- and TX-levels from far_end and near_end \n",
    "The format (list of dictonaries with the specific keys) is the the format *pySNMPdaq* expects "
   ]
  },
  {
   "cell_type": "code",
   "execution_count": 9,
   "metadata": {},
   "outputs": [],
   "source": [
    "link_list = []\n",
    "OID_list = ['TX', 'RX']\n",
    "\n",
    "for i in range(len(link_dict['a_slot'])):\n",
    "    # Get ID, Slots and IP\n",
    "    a_id = link_dict['a_site'][i]\n",
    "    b_id = link_dict['b_site'][i]\n",
    "    a_slot_list = get_slot_list(link_dict['a_slot'][i])\n",
    "    b_slot_list = get_slot_list(link_dict['b_slot'][i])\n",
    "    ip = link_dict['a_ip'][i]\n",
    "    \n",
    "    # Check if near end uses a 1+1 protection (i.e. two slots are used) \n",
    "    if len(a_slot_list) == 1:\n",
    "        protection_near = False\n",
    "    elif len(a_slot_list) == 2:\n",
    "        protection_near = True\n",
    "    else:\n",
    "        raise ValueError('There should only be 1 or 2 slots for site A')\n",
    "    # Check if far end uses 1+1 protection\n",
    "    if len(b_slot_list) == 1:\n",
    "        protection_far = False\n",
    "    elif len(b_slot_list) == 2:\n",
    "        protection_far = True\n",
    "    else:\n",
    "        raise ValueError('There should only be 1 or 2 slots for site B')\n",
    "        \n",
    "    # Build OID dict and append to link_list together with metadata\n",
    "    for a_slot in a_slot_list:\n",
    "        for i_b_slot, b_slot in enumerate(b_slot_list):\n",
    "            link_id = a_id + '_' + str(a_slot) + '_' + b_id + '_' + str(b_slot)\n",
    "            OID_dict = {}\n",
    "            # Build OID dict and distinguish between far end with and without 1+1 protection.\n",
    "            # (This is not necessary for near end.)\n",
    "            for far_near in ['far', 'near']:\n",
    "                # Adjust OID for far end protection\n",
    "                for OID in OID_list:\n",
    "                    if i_b_slot == 0:\n",
    "                        TN_OID = build_TN_OID(OID, a_slot, far_near)\n",
    "                    elif i_b_slot == 1 and far_near == 'near':\n",
    "                        TN_OID = build_TN_OID(OID, a_slot, 'near')\n",
    "                    elif i_b_slot == 1 and far_near == 'far':\n",
    "                        TN_OID = build_TN_OID(OID, a_slot, 'far_protect')\n",
    "                    else:\n",
    "                        raise ValueError('There seem to be more than two \\\n",
    "                                         slots for far end. This is not supported.')\n",
    "                    OID_dict[OID + '_' + far_near] = TN_OID\n",
    "            # Append to link_list\n",
    "            link_list.append({'ID': link_id,\n",
    "                              'IP' : ip,\n",
    "                              'protection_near': protection_near,\n",
    "                              'protection_far': protection_far,\n",
    "                              'slot_near': a_slot,\n",
    "                              'slot_far': b_slot,\n",
    "                              'OID_dict': OID_dict})"
   ]
  },
  {
   "cell_type": "markdown",
   "metadata": {},
   "source": [
    "Show the first entries of the OID dict list"
   ]
  },
  {
   "cell_type": "code",
   "execution_count": 10,
   "metadata": {
    "scrolled": false
   },
   "outputs": [
    {
     "data": {
      "text/plain": [
       "[{'ID': u'MY0094_2_MY2108_3',\n",
       "  'IP': u'10.31.64.24',\n",
       "  'OID_dict': {'RX_far': '.1.3.6.1.4.1.193.81.3.4.3.1.3.1.10.2129920257',\n",
       "   'RX_near': '.1.3.6.1.4.1.193.81.3.4.3.1.3.1.10.2146697473',\n",
       "   'TX_far': '.1.3.6.1.4.1.193.81.3.4.3.1.3.1.1.2129920257',\n",
       "   'TX_near': '.1.3.6.1.4.1.193.81.3.4.3.1.3.1.1.2146697473'},\n",
       "  'protection_far': False,\n",
       "  'protection_near': False,\n",
       "  'slot_far': 3,\n",
       "  'slot_near': 2},\n",
       " {'ID': u'MY0518_2_MY2033_2',\n",
       "  'IP': u'10.30.64.8',\n",
       "  'OID_dict': {'RX_far': '.1.3.6.1.4.1.193.81.3.4.3.1.3.1.10.2129920257',\n",
       "   'RX_near': '.1.3.6.1.4.1.193.81.3.4.3.1.3.1.10.2146697473',\n",
       "   'TX_far': '.1.3.6.1.4.1.193.81.3.4.3.1.3.1.1.2129920257',\n",
       "   'TX_near': '.1.3.6.1.4.1.193.81.3.4.3.1.3.1.1.2146697473'},\n",
       "  'protection_far': False,\n",
       "  'protection_near': False,\n",
       "  'slot_far': 2,\n",
       "  'slot_near': 2},\n",
       " {'ID': u'MY0207_2_MY2248_2',\n",
       "  'IP': u'10.30.64.56',\n",
       "  'OID_dict': {'RX_far': '.1.3.6.1.4.1.193.81.3.4.3.1.3.1.10.2129920257',\n",
       "   'RX_near': '.1.3.6.1.4.1.193.81.3.4.3.1.3.1.10.2146697473',\n",
       "   'TX_far': '.1.3.6.1.4.1.193.81.3.4.3.1.3.1.1.2129920257',\n",
       "   'TX_near': '.1.3.6.1.4.1.193.81.3.4.3.1.3.1.1.2146697473'},\n",
       "  'protection_far': False,\n",
       "  'protection_near': False,\n",
       "  'slot_far': 2,\n",
       "  'slot_near': 2}]"
      ]
     },
     "execution_count": 10,
     "metadata": {},
     "output_type": "execute_result"
    }
   ],
   "source": [
    "link_list[0:3]"
   ]
  },
  {
   "cell_type": "markdown",
   "metadata": {},
   "source": [
    "## Dump the OID dict list to a file so that *pySNMPdaq* can read it in"
   ]
  },
  {
   "cell_type": "code",
   "execution_count": 11,
   "metadata": {},
   "outputs": [],
   "source": [
    "import pprint\n",
    "\n",
    "f = open('link_list.py','w')\n",
    "pprint.pprint(link_list, f)\n",
    "f.close()"
   ]
  }
 ],
 "metadata": {
  "kernelspec": {
   "display_name": "Python 3",
   "language": "python",
   "name": "python3"
  },
  "language_info": {
   "codemirror_mode": {
    "name": "ipython",
    "version": 3
   },
   "file_extension": ".py",
   "mimetype": "text/x-python",
   "name": "python",
   "nbconvert_exporter": "python",
   "pygments_lexer": "ipython3",
   "version": "3.6.9"
  }
 },
 "nbformat": 4,
 "nbformat_minor": 1
}
